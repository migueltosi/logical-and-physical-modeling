{
 "cells": [
  {
   "cell_type": "markdown",
   "id": "e1caf185",
   "metadata": {},
   "source": [
    "# Relational database modeling: logical and physical modeling [Revision]"
   ]
  },
  {
   "cell_type": "markdown",
   "id": "d8bc29fe",
   "metadata": {},
   "source": [
    "https://cursos.alura.com.br/course/modelagem-banco-dados-relacional-modelagem-logica-fisica/"
   ]
  },
  {
   "cell_type": "markdown",
   "id": "96bd95bf",
   "metadata": {},
   "source": [
    "## Types of modeling"
   ]
  },
  {
   "cell_type": "markdown",
   "id": "6d9186c9",
   "metadata": {},
   "source": [
    "### Differentiate and characterize logical and physical models"
   ]
  },
  {
   "cell_type": "code",
   "execution_count": null,
   "id": "f7477e31",
   "metadata": {},
   "outputs": [],
   "source": [
    "# logical model: serves to clearly define and explain functions, relationships, and attributes of entities"
   ]
  },
  {
   "cell_type": "code",
   "execution_count": null,
   "id": "68abce07",
   "metadata": {},
   "outputs": [],
   "source": [
    "# physical model: serves to demonstrate physically what occurs and relates. closest model to the DBMS"
   ]
  },
  {
   "cell_type": "markdown",
   "id": "39d492e9",
   "metadata": {},
   "source": [
    "### Know the forms of representation of the logical model"
   ]
  },
  {
   "cell_type": "code",
   "execution_count": null,
   "id": "3a1d9acb",
   "metadata": {},
   "outputs": [],
   "source": [
    "# Vertical representation:\n",
    "\n",
    "#attributes/fields are represented one below the other, key attributes are identified\n",
    "#elationships are represented through lines connecting one relationship to another"
   ]
  },
  {
   "cell_type": "code",
   "execution_count": null,
   "id": "c7074bbe",
   "metadata": {},
   "outputs": [],
   "source": [
    "# Horizontal representation:\n",
    "\n",
    "# attributes/fields are displayed next to each other, key attributes are underlined in relationships\n",
    "# relationships are represented by an arrow, which leaves the dependent relationship and arrives at the owning relationship."
   ]
  },
  {
   "cell_type": "markdown",
   "id": "16fb64cb",
   "metadata": {},
   "source": [
    "## Logical modeling"
   ]
  },
  {
   "cell_type": "markdown",
   "id": "2e79538c",
   "metadata": {},
   "source": [
    "### Represent the logical model in brModelo:"
   ]
  },
  {
   "cell_type": "markdown",
   "id": "506c5268",
   "metadata": {},
   "source": [
    "### Naming the items in the logical model"
   ]
  },
  {
   "cell_type": "code",
   "execution_count": null,
   "id": "becbee32",
   "metadata": {},
   "outputs": [],
   "source": [
    "# The entitites are tables with their respective names"
   ]
  },
  {
   "cell_type": "code",
   "execution_count": null,
   "id": "00373eea",
   "metadata": {},
   "outputs": [],
   "source": [
    "# The attributes are columns in these tables"
   ]
  },
  {
   "cell_type": "markdown",
   "id": "517045e7",
   "metadata": {},
   "source": [
    "### Represent strong and weak entities in the logical model"
   ]
  },
  {
   "cell_type": "code",
   "execution_count": null,
   "id": "c1952f14",
   "metadata": {},
   "outputs": [],
   "source": [
    "# Strong entities are tables with one primary key"
   ]
  },
  {
   "cell_type": "code",
   "execution_count": null,
   "id": "13361dd0",
   "metadata": {},
   "outputs": [],
   "source": [
    "# Weak entities are tables with two keys (one foreign) forming the primary key"
   ]
  },
  {
   "cell_type": "markdown",
   "id": "0a5304a1",
   "metadata": {},
   "source": [
    " <img src='brmodels/brmodel1.png'>"
   ]
  },
  {
   "cell_type": "markdown",
   "id": "3693bdc5",
   "metadata": {},
   "source": [
    "### Build the logical model of the database"
   ]
  },
  {
   "cell_type": "markdown",
   "id": "3ecf2bc6",
   "metadata": {},
   "source": [
    " <img src='brmodels/brmodel2.png'>"
   ]
  },
  {
   "cell_type": "markdown",
   "id": "a41778d1",
   "metadata": {},
   "source": [
    "### Differentiate relationship attributes: specialization and generalization"
   ]
  },
  {
   "cell_type": "markdown",
   "id": "8737912c",
   "metadata": {},
   "source": [
    " <img src='brmodels/brmodel3.png'>"
   ]
  },
  {
   "cell_type": "markdown",
   "id": "9924d1cf",
   "metadata": {},
   "source": [
    "## Physical modeling"
   ]
  },
  {
   "cell_type": "markdown",
   "id": "b656cfe7",
   "metadata": {},
   "source": [
    "### Install SQL Power Architect"
   ]
  },
  {
   "cell_type": "markdown",
   "id": "c0a38edb",
   "metadata": {},
   "source": [
    "https://www.java.com/pt-BR/download/manual.jsp"
   ]
  },
  {
   "cell_type": "markdown",
   "id": "160010b4",
   "metadata": {},
   "source": [
    "https://bestofbi.com/architect-download/"
   ]
  },
  {
   "cell_type": "markdown",
   "id": "5bc2b67c",
   "metadata": {},
   "source": [
    "### Identify the physical model"
   ]
  },
  {
   "cell_type": "markdown",
   "id": "050d5714",
   "metadata": {},
   "source": [
    "### Recognize other software for creating the physical model"
   ]
  },
  {
   "cell_type": "markdown",
   "id": "bd376947",
   "metadata": {},
   "source": [
    "MySQL Workbench: https://www.mysql.com/products/workbench/"
   ]
  },
  {
   "cell_type": "markdown",
   "id": "02560768",
   "metadata": {},
   "source": [
    "Astah Professional: https://astah.net/downloads/"
   ]
  },
  {
   "cell_type": "markdown",
   "id": "a7106f1a",
   "metadata": {},
   "source": [
    "DBDesigner 4: https://www.fabforce.net/dbdesigner4/downloads.php"
   ]
  },
  {
   "cell_type": "markdown",
   "id": "404296e8",
   "metadata": {},
   "source": [
    "## Data types, tables and columns"
   ]
  },
  {
   "cell_type": "markdown",
   "id": "34c4b916",
   "metadata": {},
   "source": [
    "### Build tables in the physical model"
   ]
  },
  {
   "cell_type": "markdown",
   "id": "36f6f538",
   "metadata": {},
   "source": [
    " <img src='sqlpowers/sqlpower1.png'>"
   ]
  },
  {
   "cell_type": "markdown",
   "id": "cfe1e178",
   "metadata": {},
   "source": [
    "### Identify the data types of the columns"
   ]
  },
  {
   "cell_type": "markdown",
   "id": "2ee3a7bc",
   "metadata": {},
   "source": [
    "#### Numeric data types"
   ]
  },
  {
   "cell_type": "code",
   "execution_count": null,
   "id": "9d4a8511",
   "metadata": {},
   "outputs": [],
   "source": [
    "# INT: stores integer numeric values."
   ]
  },
  {
   "cell_type": "code",
   "execution_count": null,
   "id": "d62a3d39",
   "metadata": {},
   "outputs": [],
   "source": [
    "# FLOAT: stores approximate numeric values with floating-point precision."
   ]
  },
  {
   "cell_type": "code",
   "execution_count": null,
   "id": "d8fbd4d2",
   "metadata": {},
   "outputs": [],
   "source": [
    "# DECIMAL: stores numerical values with decimal places, using precision."
   ]
  },
  {
   "cell_type": "markdown",
   "id": "d9a3d99b",
   "metadata": {},
   "source": [
    "#### String data types"
   ]
  },
  {
   "cell_type": "code",
   "execution_count": null,
   "id": "6a70a830",
   "metadata": {},
   "outputs": [],
   "source": [
    "# VARCHAR: stores variable length string values according to its limit"
   ]
  },
  {
   "cell_type": "code",
   "execution_count": null,
   "id": "3b6cffa0",
   "metadata": {},
   "outputs": [],
   "source": [
    "# CHAR: stores fixed-length string values"
   ]
  },
  {
   "cell_type": "code",
   "execution_count": null,
   "id": "bbce05f1",
   "metadata": {},
   "outputs": [],
   "source": [
    "# TEXT: stores variable length string values"
   ]
  },
  {
   "cell_type": "markdown",
   "id": "29b7051c",
   "metadata": {},
   "source": [
    "#### Date data types we have"
   ]
  },
  {
   "cell_type": "code",
   "execution_count": null,
   "id": "c247678b",
   "metadata": {},
   "outputs": [],
   "source": [
    "# DATE: only stores date values"
   ]
  },
  {
   "cell_type": "code",
   "execution_count": null,
   "id": "c284d497",
   "metadata": {},
   "outputs": [],
   "source": [
    "# TIME: only stores time values"
   ]
  },
  {
   "cell_type": "code",
   "execution_count": null,
   "id": "14b17a38",
   "metadata": {},
   "outputs": [],
   "source": [
    "# TIMESTAMP: stores date and time values"
   ]
  },
  {
   "cell_type": "markdown",
   "id": "420f4e32",
   "metadata": {},
   "source": [
    "### Build columns in the physical model"
   ]
  },
  {
   "cell_type": "code",
   "execution_count": null,
   "id": "1d5c4a6f",
   "metadata": {},
   "outputs": [],
   "source": []
  },
  {
   "cell_type": "markdown",
   "id": "06911cdb",
   "metadata": {},
   "source": [
    "## Completing the project"
   ]
  },
  {
   "cell_type": "markdown",
   "id": "8d5d1ae4",
   "metadata": {},
   "source": [
    "### Differentiate identifying and non-identifying relationships"
   ]
  },
  {
   "cell_type": "code",
   "execution_count": null,
   "id": "53c54562",
   "metadata": {},
   "outputs": [],
   "source": [
    "# Identifying relationships the primary key of the parent entity is included in the primary key of the child entity"
   ]
  },
  {
   "cell_type": "code",
   "execution_count": null,
   "id": "607be69d",
   "metadata": {},
   "outputs": [],
   "source": [
    "# Non-identifying: relationship: the primary key of the parent entity is included in the child entity but\n",
    "# not as part of the child entity's primary key"
   ]
  },
  {
   "cell_type": "markdown",
   "id": "2cdff765",
   "metadata": {},
   "source": [
    "### Represent the cardinality of relationships"
   ]
  },
  {
   "cell_type": "code",
   "execution_count": 1,
   "id": "cce6ce97",
   "metadata": {},
   "outputs": [],
   "source": [
    "#                                                            (0,1)"
   ]
  },
  {
   "cell_type": "markdown",
   "id": "e751e738",
   "metadata": {},
   "source": [
    " <img src='sqlpowers/01.png'>"
   ]
  },
  {
   "cell_type": "code",
   "execution_count": 2,
   "id": "1dc747dd",
   "metadata": {},
   "outputs": [],
   "source": [
    "#                                                            (0,n)"
   ]
  },
  {
   "cell_type": "markdown",
   "id": "1a286ff9",
   "metadata": {},
   "source": [
    " <img src='sqlpowers/0n.png'>"
   ]
  },
  {
   "cell_type": "code",
   "execution_count": 3,
   "id": "17f67675",
   "metadata": {},
   "outputs": [],
   "source": [
    "#                                                            (1,1)"
   ]
  },
  {
   "cell_type": "markdown",
   "id": "ad010200",
   "metadata": {},
   "source": [
    " <img src='sqlpowers/11.png'>"
   ]
  },
  {
   "cell_type": "code",
   "execution_count": 4,
   "id": "87d17d22",
   "metadata": {},
   "outputs": [],
   "source": [
    "#                                                            (1,n)"
   ]
  },
  {
   "cell_type": "markdown",
   "id": "bd1f7262",
   "metadata": {},
   "source": [
    " <img src='sqlpowers/1n.png'>"
   ]
  },
  {
   "cell_type": "markdown",
   "id": "fb280f18",
   "metadata": {},
   "source": [
    "### Differentiate the representation of the physical model according to the software used"
   ]
  },
  {
   "cell_type": "markdown",
   "id": "4a86f5b6",
   "metadata": {},
   "source": [
    "by https://www.developer.com/database/using-vertical-and-horizontal-table-structures-in-oracle/"
   ]
  },
  {
   "cell_type": "code",
   "execution_count": null,
   "id": "38b02182",
   "metadata": {},
   "outputs": [],
   "source": [
    "# Horinzontal: "
   ]
  },
  {
   "cell_type": "markdown",
   "id": "d59acab9",
   "metadata": {},
   "source": [
    " <img src='extra/hr.png'>"
   ]
  },
  {
   "cell_type": "code",
   "execution_count": null,
   "id": "33abf52b",
   "metadata": {},
   "outputs": [],
   "source": [
    "# Vertical"
   ]
  },
  {
   "cell_type": "markdown",
   "id": "b835402c",
   "metadata": {},
   "source": [
    " <img src='extra/vr.png'>"
   ]
  },
  {
   "cell_type": "markdown",
   "id": "227b4364",
   "metadata": {},
   "source": [
    "### Build a physical model"
   ]
  },
  {
   "cell_type": "markdown",
   "id": "bfce609d",
   "metadata": {},
   "source": [
    " <img src='sqlpowers/sqlpower2.png'>"
   ]
  }
 ],
 "metadata": {
  "kernelspec": {
   "display_name": "Python 3 (ipykernel)",
   "language": "python",
   "name": "python3"
  },
  "language_info": {
   "codemirror_mode": {
    "name": "ipython",
    "version": 3
   },
   "file_extension": ".py",
   "mimetype": "text/x-python",
   "name": "python",
   "nbconvert_exporter": "python",
   "pygments_lexer": "ipython3",
   "version": "3.9.13"
  }
 },
 "nbformat": 4,
 "nbformat_minor": 5
}
